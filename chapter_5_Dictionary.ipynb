{
  "nbformat": 4,
  "nbformat_minor": 0,
  "metadata": {
    "colab": {
      "provenance": [],
      "collapsed_sections": [],
      "authorship_tag": "ABX9TyPQFKnaEYdkwXF3TinnOEkV",
      "include_colab_link": true
    },
    "kernelspec": {
      "name": "python3",
      "display_name": "Python 3"
    },
    "language_info": {
      "name": "python"
    }
  },
  "cells": [
    {
      "cell_type": "markdown",
      "metadata": {
        "id": "view-in-github",
        "colab_type": "text"
      },
      "source": [
        "<a href=\"https://colab.research.google.com/github/harris619/Pythonportfolio/blob/main/chapter_5_Dictionary.ipynb\" target=\"_parent\"><img src=\"https://colab.research.google.com/assets/colab-badge.svg\" alt=\"Open In Colab\"/></a>"
      ]
    },
    {
      "cell_type": "markdown",
      "source": [
        "**Exercise.1:**\n",
        "\n",
        "Use a dictionary to store information about a person you know.Store their first name, last name, age, and the city in which they live. You should have keys such as first_name, last_name, age, and city. Print each piece of information stored in your dictionary.\n",
        "\n",
        "   "
      ],
      "metadata": {
        "id": "6UuLLCf3OwOz"
      }
    },
    {
      "cell_type": "code",
      "execution_count": null,
      "metadata": {
        "colab": {
          "base_uri": "https://localhost:8080/"
        },
        "id": "LN_xlnEvOaul",
        "outputId": "0b6144a9-6e2d-4a22-b5a6-2bc08257d915"
      },
      "outputs": [
        {
          "output_type": "stream",
          "name": "stdout",
          "text": [
            "Dwyane\n",
            "Johnson\n",
            "49\n",
            "California\n"
          ]
        }
      ],
      "source": [
        "#a program to store all the information in a dictionary\n",
        "dictionary={\"first_name\":\"Dwyane\", \"last_name\":\"Johnson\",\"age\":\"49\", \"city\":\"California\"}  \n",
        "\n",
        "#printing all the elements in a dictionary\n",
        "print(dictionary[\"first_name\"])\n",
        "print(dictionary[\"last_name\"])\n",
        "print(dictionary[\"age\"])\n",
        "print(dictionary[\"city\"])\n"
      ]
    },
    {
      "cell_type": "markdown",
      "source": [
        "**Exercise.2:**\n",
        "\n",
        "A Python dictionary can be used to model an actual dictionary. However, to avoid confusion, let’s call it a glossary.\n",
        "\n",
        "Think of five programming words you’ve learned about in the previous chapters. Use these words as the keys in your glossary, and store\n",
        "their meanings as values.\n",
        "\n",
        "Print each word and its meaning as neatly formatted output. You might print the word followed by a colon and then its meaning, or print\n",
        "the word on one line and then print its meaning indented on a second line. Use the newline character (\\n) to insert a blank line between each word-meaning pair in your output.    "
      ],
      "metadata": {
        "id": "NP0-cpo4OxGE"
      }
    },
    {
      "cell_type": "code",
      "source": [
        "#a program to write the definition and its meaning by using \\n\n",
        "#glossary\n",
        "glossary = {\n",
        "   'print': 'To print an objects to the text stream file seperated by sep and followed by the end.',\n",
        "   'if': 'Compound statement contains group of other statements.',\n",
        "   'strings': 'Sequence of characters, either as a literal constant or as some kind of variables.',\n",
        "   'else': 'Statement is an alternative statements that is executed if the result of a privious text condition avaluates to false.',\n",
        "   'float': 'A variable type that is used to store floating point number values.',\n",
        " }\n",
        "\n",
        "word = 'print'\n",
        "\n",
        "print(f\"\\n{word.title()}: {glossary[word]}\")\n",
        "\n",
        "word = 'if'\n",
        "\n",
        "print(f\"\\n{word.title()}: {glossary[word]}\")\n",
        "\n",
        "word = 'strings'\n",
        "\n",
        "print(f\"\\n{word.title()}: {glossary[word]}\")\n",
        " \n",
        "word = 'else'\n",
        "\n",
        "print(f\"\\n{word.title()}: {glossary[word]}\") \n",
        "\n",
        "word = 'float'\n",
        "\n",
        "print(f\"\\n{word.title()}: {glossary[word]}\")"
      ],
      "metadata": {
        "colab": {
          "base_uri": "https://localhost:8080/"
        },
        "id": "MEAiCzyGOxhJ",
        "outputId": "0a7f23e3-1e47-4998-bcb1-8ccde153f344"
      },
      "execution_count": null,
      "outputs": [
        {
          "output_type": "stream",
          "name": "stdout",
          "text": [
            "\n",
            "Print: To print an objects to the text stream file seperated by sep and followed by the end.\n",
            "\n",
            "If: Compound statement contains group of other statements.\n",
            "\n",
            "Strings: Sequence of characters, either as a literal constant or as some kind of variables.\n",
            "\n",
            "Else: Statement is an alternative statements that is executed if the result of a privious text condition avaluates to false.\n",
            "\n",
            "Float: A variable type that is used to store floating point number values.\n"
          ]
        }
      ]
    },
    {
      "cell_type": "markdown",
      "source": [
        "**Exercise.3:**\n",
        "\n",
        "Now that you know how to loop through a dictionary, clean up the code from Exercise 6-3 (page 99) by replacing your series of print() calls with a loop that runs through the dictionary’s keys and values. When you’re sure that your loop works, add five more Python terms to your glossary.When you run your program again, these new words and meanings should automatically be included in the output.\n",
        "\n",
        "   "
      ],
      "metadata": {
        "id": "kwAZjr2WOyEh"
      }
    },
    {
      "cell_type": "code",
      "source": [
        "#add 5 new programming words that should automatically add to your dictionary\n",
        "glossary = { \n",
        "        \n",
        "   'print' : 'To print objects to the text stream file, seperated by sep and followed by end', \n",
        "   'if': 'Compound statement contains group of other statements.',\n",
        "   'strings': 'Sequence of characters, either as a literal constant or as some kind of variables.',\n",
        "   'else': 'Statement is an alternative statements that is executed if the result of a privious text condition avaluates to false.',\n",
        "   'float': 'A variable type that is used to store floating point number values.',\n",
        "   'comment': 'A note in a program that the Pyhton interpreter ignores.',\n",
        "   'elif': 'Short for else if, is used to execute a continious chain of conditional logic ladder',\n",
        "   'module': 'Have a name space containing arbitrary Phyton objects', \n",
        "   'library': 'A pyhton library is a collection of related modules. It contains bundles of codes that can be repeated in different programs.'\n",
        "   }\n",
        "\n",
        "#using for loops to print all the definitions and its meanings\n",
        "for word, definition in glossary.items():\n",
        "    print(f\"\\n{word.title()}: {definition}\")   "
      ],
      "metadata": {
        "id": "t0Li8kT5Oyhs",
        "colab": {
          "base_uri": "https://localhost:8080/"
        },
        "outputId": "03215298-7673-446f-a208-f517a4b9d9e2"
      },
      "execution_count": 1,
      "outputs": [
        {
          "output_type": "stream",
          "name": "stdout",
          "text": [
            "\n",
            "Print: To print objects to the text stream file, seperated by sep and followed by end\n",
            "\n",
            "If: Compound statement contains group of other statements.\n",
            "\n",
            "Strings: Sequence of characters, either as a literal constant or as some kind of variables.\n",
            "\n",
            "Else: Statement is an alternative statements that is executed if the result of a privious text condition avaluates to false.\n",
            "\n",
            "Float: A variable type that is used to store floating point number values.\n",
            "\n",
            "Comment: A note in a program that the Pyhton interpreter ignores.\n",
            "\n",
            "Elif: Short for else if, is used to execute a continious chain of conditional logic ladder\n",
            "\n",
            "Module: Have a name space containing arbitrary Phyton objects\n",
            "\n",
            "Library: A pyhton library is a collection of related modules. It contains bundles of codes that can be repeated in different programs.\n"
          ]
        }
      ]
    },
    {
      "cell_type": "markdown",
      "source": [
        "**Exercise.4:**\n",
        "\n",
        "Make a dictionary containing three major rivers and the country each river runs through. One key-value pair might be 'nile': 'egypt'.\n",
        "\n",
        "Use a loop to print a sentence about each river, such as The Nile runs through Egypt.\n",
        "\n",
        "Use a loop to print the name of each river included in the dictionary.\n",
        "\n",
        "Use a loop to print the name of each country included in the dictionary."
      ],
      "metadata": {
        "id": "V3f418oxOzKF"
      }
    },
    {
      "cell_type": "code",
      "source": [
        "#make a dictinary containing 3 major rivers and the area which they flow through\n",
        "#using for loops to perform action\n",
        "rivers = {\n",
        "    'Yukon Lake': 'USA',\n",
        "    'Purus Lake': 'Brazil',\n",
        "    'Volga Lake': 'Russia',\n",
        "    'Naryn Lake': 'Kazakhstan',\n",
        "    'Danube Lake': 'Romania',\n",
        "    }\n",
        "\n",
        "for river, country in rivers.items():\n",
        "    print(f\"The{river.title()} flow through {country.title()}.\") \n",
        "\n",
        "print(\"\\nThe following rivers are included in this data set:\")\n",
        "for river in rivers.keys():\n",
        "    print(f\"- {river.title()}\")\n",
        "\n",
        "print(\"\\nThe following countries are included in this data set:\")\n",
        "for country in rivers.values():\n",
        "    print(f\"- {country.title()}\")    \n",
        "\n"
      ],
      "metadata": {
        "id": "AMSYqdSqOznS",
        "colab": {
          "base_uri": "https://localhost:8080/"
        },
        "outputId": "90a52e7b-b210-4af7-c5c5-c5c9a27d5acf"
      },
      "execution_count": null,
      "outputs": [
        {
          "output_type": "stream",
          "name": "stdout",
          "text": [
            "TheYukon Lake flow through Usa.\n",
            "ThePurus Lake flow through Brazil.\n",
            "TheVolga Lake flow through Russia.\n",
            "TheNaryn Lake flow through Kazakhstan.\n",
            "TheDanube Lake flow through Romania.\n",
            "\n",
            "The following rivers are included in this data set:\n",
            "- Yukon Lake\n",
            "- Purus Lake\n",
            "- Volga Lake\n",
            "- Naryn Lake\n",
            "- Danube Lake\n",
            "\n",
            "The following countries are included in this data set:\n",
            "- Usa\n",
            "- Brazil\n",
            "- Russia\n",
            "- Kazakhstan\n",
            "- Romania\n"
          ]
        }
      ]
    },
    {
      "cell_type": "markdown",
      "source": [
        "**Exercise.5:**\n",
        "\n",
        "Make several dictionaries, where each dictionary represents a different pet. In each dictionary, include the kind of animal and the owner’s name. Store these dictionaries in a list called pets. Next, loop through your list and asyou do, print everything you know about each pet."
      ],
      "metadata": {
        "id": "spnzbIn-x4wN"
      }
    },
    {
      "cell_type": "code",
      "source": [
        "#using program insert the kind of pet with its owners name\n",
        "pets = []\n",
        "\n",
        "pet = {\n",
        "    'animal': 'Cat',\n",
        "    'name': 'Inee',\n",
        "    'food': 'Fish',\n",
        "    'owner': 'Cody',\n",
        "}\n",
        "pets.append(pet)\n",
        "\n",
        "pet = {\n",
        "    'animal': 'Goat',\n",
        "    'name': 'Levi',\n",
        "    'food': 'Leaves',\n",
        "    'owner': 'Dustin',\n",
        "}   \n",
        "pets.append(pet)     \n",
        "\n",
        "\n",
        "pet = {\n",
        "    'animal': 'Fish',\n",
        "    'name': 'Everis',\n",
        "    'food': 'Flakes',\n",
        "    'owner': 'John',\n",
        "}\n",
        "pets.append(pet)\n",
        "\n",
        "for pet in pets:\n",
        "    print(f\"\\nHere's all the information about pet {pet['name'].title()}:\")\n",
        "    for key, value in pet.items():\n",
        "        print(f\"\\t{key}: {value}\")"
      ],
      "metadata": {
        "colab": {
          "base_uri": "https://localhost:8080/"
        },
        "id": "QyMJFfhZx5Ge",
        "outputId": "81056e43-46e7-49fb-cd16-2fa2819a076e"
      },
      "execution_count": null,
      "outputs": [
        {
          "output_type": "stream",
          "name": "stdout",
          "text": [
            "\n",
            "Here's all the information about pet Inee:\n",
            "\tanimal: Cat\n",
            "\tname: Inee\n",
            "\tfood: Fish\n",
            "\towner: Cody\n",
            "\n",
            "Here's all the information about pet Levi:\n",
            "\tanimal: Goat\n",
            "\tname: Levi\n",
            "\tfood: Leaves\n",
            "\towner: Dustin\n",
            "\n",
            "Here's all the information about pet Everis:\n",
            "\tanimal: Fish\n",
            "\tname: Everis\n",
            "\tfood: Flakes\n",
            "\towner: John\n"
          ]
        }
      ]
    },
    {
      "cell_type": "code",
      "source": [
        " "
      ],
      "metadata": {
        "id": "0kdlrnwIviDG"
      },
      "execution_count": null,
      "outputs": []
    }
  ]
}