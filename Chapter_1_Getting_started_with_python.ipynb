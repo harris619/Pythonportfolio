{
  "nbformat": 4,
  "nbformat_minor": 0,
  "metadata": {
    "colab": {
      "provenance": [],
      "collapsed_sections": [],
      "toc_visible": true,
      "authorship_tag": "ABX9TyOKhfeEBNc4GIFhL6KxOv+p",
      "include_colab_link": true
    },
    "kernelspec": {
      "name": "python3",
      "display_name": "Python 3"
    },
    "language_info": {
      "name": "python"
    }
  },
  "cells": [
    {
      "cell_type": "markdown",
      "metadata": {
        "id": "view-in-github",
        "colab_type": "text"
      },
      "source": [
        "<a href=\"https://colab.research.google.com/github/harris619/Pythonportfolio/blob/main/Chapter_1_Getting_started_with_python.ipynb\" target=\"_parent\"><img src=\"https://colab.research.google.com/assets/colab-badge.svg\" alt=\"Open In Colab\"/></a>"
      ]
    },
    {
      "cell_type": "markdown",
      "source": [
        "**Exercise.1:**\n",
        "\n",
        "Write a Python program to print the following string in a specific format.\n",
        "\n",
        "Twinkle, twinkle, little star, How I wonder what you are! Up above the world so high, Like a diamond in the sky. Twinkle, twinkle, little star, How I wonder what you are"
      ],
      "metadata": {
        "id": "MuTRADPgTLYm"
      }
    },
    {
      "cell_type": "code",
      "execution_count": null,
      "metadata": {
        "colab": {
          "base_uri": "https://localhost:8080/"
        },
        "id": "HRE8wgMJbxta",
        "outputId": "3a7d74ef-dcca-4cdb-af3f-45f2e7deb7c2"
      },
      "outputs": [
        {
          "output_type": "stream",
          "name": "stdout",
          "text": [
            "Twinkle twinkle little star\n",
            "How I wonder what you are\n",
            "Up above the world so high\n",
            "Like a diamond in the sky\n",
            "Twinkle twinkle little star\n",
            "How I wonder what you are\n"
          ]
        }
      ],
      "source": [
        "#print a program in order to print your favourite quotes\n",
        "print('Twinkle twinkle little star') #my fav quote\n",
        "print('How I wonder what you are') \n",
        "print('Up above the world so high')\n",
        "print('Like a diamond in the sky')\n",
        "print('Twinkle twinkle little star')\n",
        "print('How I wonder what you are')"
      ]
    },
    {
      "cell_type": "markdown",
      "source": [
        "**Exercise.2:**\n",
        "\n",
        "Write a Python program to get the Python version you are using."
      ],
      "metadata": {
        "id": "a8_TghDkPNcC"
      }
    },
    {
      "cell_type": "code",
      "execution_count": null,
      "metadata": {
        "colab": {
          "base_uri": "https://localhost:8080/"
        },
        "id": "FxO0RrK0rsEv",
        "outputId": "716467ed-2d99-4005-f68d-4c0a053cec0d"
      },
      "outputs": [
        {
          "output_type": "stream",
          "name": "stdout",
          "text": [
            "Python Version\n",
            "sys.version\n",
            "Pyton Version Information\n",
            "sys.version_info\n"
          ]
        }
      ],
      "source": [
        "#print a program to get the python version\n",
        "import sys #using import function\n",
        "\n",
        "print('Python Version') #my python version\n",
        "print('sys.version') \n",
        "\n",
        "print('Pyton Version Information')\n",
        "print('sys.version_info')"
      ]
    },
    {
      "cell_type": "markdown",
      "source": [
        "**Execise.3:**\n",
        "\n",
        "Write a Python program to display the current date and time"
      ],
      "metadata": {
        "id": "3_0PGh9zPZor"
      }
    },
    {
      "cell_type": "code",
      "execution_count": null,
      "metadata": {
        "colab": {
          "base_uri": "https://localhost:8080/"
        },
        "id": "j_vUTWlI9Dl9",
        "outputId": "efad1a5d-76b0-4d2c-c128-e54e5c1e4dcf"
      },
      "outputs": [
        {
          "output_type": "stream",
          "name": "stdout",
          "text": [
            "Today's date is 2022-10-30\n",
            "\n",
            "\n",
            "The current time is 13 : 06 : 21\n",
            "\n",
            "\n",
            "The date is 2022-10-30 13:06:21.038030\n"
          ]
        }
      ],
      "source": [
        "#Print a program to display current date and time\n",
        "import time  # using importing time module\n",
        "from datetime import date   # using time module\n",
        "from datetime import datetime #using datetime\n",
        "\n",
        "date = date.today() \n",
        "print(\"Today's date is\", date)\n",
        "\n",
        "print(\"\\n\")\n",
        "\n",
        "t = time.localtime()\n",
        "current_time = time.strftime(\"%H : %M : %S\", t)\n",
        "print('The current time is', current_time)\n",
        "\n",
        "print(\"\\n\")\n",
        "# printing both time & date together\n",
        "\n",
        "date_time = datetime.now()\n",
        "print(\"The date is\", date_time)\n"
      ]
    },
    {
      "cell_type": "markdown",
      "source": [
        "**Exercise.4:**\n",
        "\n",
        "Write three strings in different variables and print the output as one string.      "
      ],
      "metadata": {
        "id": "0zhaDNWuSUuC"
      }
    },
    {
      "cell_type": "code",
      "execution_count": null,
      "metadata": {
        "colab": {
          "base_uri": "https://localhost:8080/"
        },
        "id": "UspJWPOaAycK",
        "outputId": "c556f9bb-faa0-4aee-c1e2-0e5e06675da4"
      },
      "outputs": [
        {
          "output_type": "stream",
          "name": "stdout",
          "text": [
            "My name is Haris\n",
            "I love programming\n",
            "I study in metavorse\n"
          ]
        }
      ],
      "source": [
        "#print 3 strings in different variables and print output as one\n",
        "string_1 = 'My name is Haris' #my name\n",
        "string_2 = 'I love programming' #my favourite line in python\n",
        "string_3 = 'I study in metavorse' #the place where i study\n",
        "print(string_1 + '\\n' + string_2 + '\\n' + string_3) #adding 3 strings to get 1 output"
      ]
    },
    {
      "cell_type": "markdown",
      "source": [
        "**Exercise.5:**\n",
        "\n",
        "Write a Python program which accepts the radius of a circle from the user and compute the area"
      ],
      "metadata": {
        "id": "ZBtZXP6ZSvJC"
      }
    },
    {
      "cell_type": "code",
      "execution_count": null,
      "metadata": {
        "colab": {
          "base_uri": "https://localhost:8080/"
        },
        "id": "00IyF60ICX01",
        "outputId": "9bf87dcb-38f7-46b2-9a30-4c70bc40b700"
      },
      "outputs": [
        {
          "output_type": "stream",
          "name": "stdout",
          "text": [
            "Enter the radious of the circle =\n",
            "45\n",
            "The area of the circle with radius45.0units is6358.500000000001sq.units\n"
          ]
        }
      ],
      "source": [
        "#print a python program for finding the radius of a circle\n",
        "print('Enter the radious of the circle =') #radius of circle\n",
        "radius = float(input())\n",
        "\n",
        "pi = 3.14\n",
        "area = pi * radius * radius\n",
        "\n",
        "print('The area of the circle with radius' + #area of circle with radius\n",
        "      str(radius) + 'units is' + str(area) + 'sq.units') #using str function"
      ]
    }
  ]
}