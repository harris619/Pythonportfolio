{
  "nbformat": 4,
  "nbformat_minor": 0,
  "metadata": {
    "colab": {
      "provenance": [],
      "authorship_tag": "ABX9TyPBGKRYSP5yupxEBST/pbbg",
      "include_colab_link": true
    },
    "kernelspec": {
      "name": "python3",
      "display_name": "Python 3"
    },
    "language_info": {
      "name": "python"
    }
  },
  "cells": [
    {
      "cell_type": "markdown",
      "metadata": {
        "id": "view-in-github",
        "colab_type": "text"
      },
      "source": [
        "<a href=\"https://colab.research.google.com/github/harris619/Pythonportfolio/blob/main/chapter3.ipynb\" target=\"_parent\"><img src=\"https://colab.research.google.com/assets/colab-badge.svg\" alt=\"Open In Colab\"/></a>"
      ]
    },
    {
      "cell_type": "markdown",
      "source": [
        "**Exercise.1:**\n",
        "\n",
        "Store the names of a few of your friends in a list called names. Print each person’s name by accessing each element in the list, one at a time."
      ],
      "metadata": {
        "id": "FDdalLds_fcU"
      }
    },
    {
      "cell_type": "code",
      "execution_count": null,
      "metadata": {
        "colab": {
          "base_uri": "https://localhost:8080/"
        },
        "id": "X6EWRMqo5Nf1",
        "outputId": "e23e494c-9b17-43b4-d31d-20a8767cbab4"
      },
      "outputs": [
        {
          "output_type": "stream",
          "name": "stdout",
          "text": [
            "Raheel\n",
            "Joe\n",
            "Taha\n",
            "Ibrar\n",
            "Obaid\n"
          ]
        }
      ],
      "source": [
        "#print the names of few friends according to each element in list\n",
        "names = ['Raheel', 'Joe', 'Taha', 'Ibrar', 'Obaid']\n",
        "\n",
        "print(names[0])\n",
        "print(names[1])\n",
        "print(names[2])\n",
        "print(names[3])\n",
        "print(names[4])"
      ]
    },
    {
      "cell_type": "markdown",
      "source": [
        "**Exercise.2:**\n",
        "\n",
        "Start with the list you used in Exercise 1, but instead of just printing each person’s name, print a message to them. The text of each message should be the same, but each message should be personalized with the person’s name."
      ],
      "metadata": {
        "id": "WI1yFcoZ_ifN"
      }
    },
    {
      "cell_type": "code",
      "source": [
        "#print the names of your friends and assign a msg to them\n",
        "names = ['Raheel', 'Joe', 'Taha', 'Ibrar', 'Obaid']\n",
        "\n",
        "print('Hello ' + names[0] + ', Lets hangout in dubai mall.')\n",
        "print('Hello ' + names[1] + ', How are you?')\n",
        "print('Hello ' + names[2] + ', It was nice to meet you.')\n",
        "print('Hello ' + names[3] + ', Goodluck with your upcoming exams')\n",
        "print('Hello ' + names[4] + ', Happy 19th birthday to you')"
      ],
      "metadata": {
        "colab": {
          "base_uri": "https://localhost:8080/"
        },
        "id": "jM5gvo54_hRM",
        "outputId": "92d3197b-e350-42fe-9973-4dbe7723c55f"
      },
      "execution_count": null,
      "outputs": [
        {
          "output_type": "stream",
          "name": "stdout",
          "text": [
            "Hello Raheel, Lets hangout in dubai mall.\n",
            "Hello Joe, How are you?\n",
            "Hello Taha, It was nice to meet you.\n",
            "Hello Ibrar, Goodluck with your upcoming exams\n",
            "Hello Obaid, Happy 19th birthday to you\n"
          ]
        }
      ]
    },
    {
      "cell_type": "markdown",
      "source": [
        "**Exercise.3:**\n",
        "\n",
        "Think of your favorite mode of transportation, such as a motorcycle or a car, and make a list that stores several examples. Use your list to print a series of statements about these items, such as “I would like to own a Honda \n",
        "motorcycle.”"
      ],
      "metadata": {
        "id": "B7yaOoJO_hYm"
      }
    },
    {
      "cell_type": "code",
      "source": [
        "#print your favorite mode of transportation and print them in a series\n",
        "transport_modes = ['car', 'metro', 'bus', 'motorbike']\n",
        "\n",
        "print('Travelling by ' + transport_modes[0].title() + ' is really easy.')\n",
        "print('I travel to the work by my dads car ' +\n",
        "      transport_modes[1].title() + ' everyday.')\n",
        "print('My favourite means of transportation is travelling by ' + \n",
        "      transport_modes[2].title())\n",
        "print('Travelling by ' + transport_modes[3].title() + ' is really good')      \n",
        "\n",
        "\n",
        "\n"
      ],
      "metadata": {
        "colab": {
          "base_uri": "https://localhost:8080/"
        },
        "id": "kOAaw9kfIIR6",
        "outputId": "13db270e-832d-4c5e-d96b-cbd5c79d046c"
      },
      "execution_count": null,
      "outputs": [
        {
          "output_type": "stream",
          "name": "stdout",
          "text": [
            "Travelling by Car is really easy.\n",
            "I travel to the work by my dads car Metro everyday.\n",
            "My favourite means of transportation is travelling by Bus\n",
            "Travelling by Motorbike is really good\n"
          ]
        }
      ]
    },
    {
      "cell_type": "markdown",
      "source": [
        "**Exercise.4:**\n",
        "\n",
        "If you could invite anyone, living or deceased, to dinner, who would you invite? Make a list that includes at least three people you’d like to invite to dinner. Then use your list to print a message to each person, invitingthem to dinner.\n",
        "\n",
        "   "
      ],
      "metadata": {
        "id": "rIlBPrsjSk-m"
      }
    },
    {
      "cell_type": "code",
      "source": [
        "#invite few of your friends for dinner at your house\n",
        "guest_list = ['Raheel', 'Joe', 'Ibrar']\n",
        "\n",
        "print('Hi ' + guest_list[0] +\n",
        "      ', I would like to invite you for a dinner in my house.')\n",
        "print('Hi ' + guest_list[1] +\n",
        "      ', I would like to invite you for a dinner in my house.')\n",
        "print('Hi ' + guest_list[2] +\n",
        "      ', I would like to invite you for a dinner in my house.')"
      ],
      "metadata": {
        "colab": {
          "base_uri": "https://localhost:8080/"
        },
        "id": "0XPe9hvESlad",
        "outputId": "83cd09f9-00cb-4ebb-b92d-99b68534a8ac"
      },
      "execution_count": null,
      "outputs": [
        {
          "output_type": "stream",
          "name": "stdout",
          "text": [
            "Hi Raheel, I would like to invite you for a dinner in my house.\n",
            "Hi Joe, I would like to invite you for a dinner in my house.\n",
            "Hi Ibrar, I would like to invite you for a dinner in my house.\n"
          ]
        }
      ]
    },
    {
      "cell_type": "markdown",
      "source": [
        "**Exercise.5:**\n",
        "\n",
        "You just heard that one of your guests can’t make the dinner, so you need to send out a new set of invitations. You’ll have to think of someone else to invite.\n",
        "\n",
        "•Start with your program from Exercise 3-4. Add a print() call at the end of your program stating the name of the guest who can’t make it.\n",
        "\n",
        "•Modify your list, replacing the name of the guest who can’t make it with the name of the new person you are inviting.\n",
        "\n",
        "•Print a second set of invitation messages, one for each person who is still in your list."
      ],
      "metadata": {
        "id": "IoRsW1nZWFc1"
      }
    },
    {
      "cell_type": "code",
      "source": [
        "#change your guest list because you have less space for dinner table\n",
        "guest_list = ['Raheel', 'Joe', 'Ibrar', 'Hadi']\n",
        "\n",
        "print('I just heard that ' + guest_list[2] + \"woudn't be able to make it.\" )\n",
        "guest_list[2] = 'Ibrar'\n",
        "print(guest_list)\n",
        "\n",
        "print('Hi again ' + guest_list[0] + ', You are invited for dinner in my house')\n",
        "print('Hi again ' + guest_list[1] + ', You are invited for dinner in my house')\n",
        "print('Hi again ' + guest_list[2] + ', You are invited for dinner in my house')\n",
        "print('Hi again ' + guest_list[3] + ', You are invited for dinner in my house')\n"
      ],
      "metadata": {
        "colab": {
          "base_uri": "https://localhost:8080/"
        },
        "id": "OZUhzW_tWAZ0",
        "outputId": "f5b315cf-8eb9-464d-b28a-d969f820ffe4"
      },
      "execution_count": null,
      "outputs": [
        {
          "output_type": "stream",
          "name": "stdout",
          "text": [
            "I just heard that Ibrarwoudn't be able to make it.\n",
            "['Raheel', 'Joe', 'Ibrar', 'Hadi']\n",
            "Hi again Raheel, You are invited for dinner in my house\n",
            "Hi again Joe, You are invited for dinner in my house\n",
            "Hi again Ibrar, You are invited for dinner in my house\n",
            "Hi again Hadi, You are invited for dinner in my house\n"
          ]
        }
      ]
    },
    {
      "cell_type": "markdown",
      "source": [
        "**Exericse.6:**\n",
        "\n",
        "You just found out that your new dinner table won’t arrive in time for the dinner, and you have space for only two guests.\n",
        "\n",
        "•Start with your program from Exercise 3-5. Add a new line that prints a message saying that you can invite only two people for dinner.\n",
        "\n",
        "•Use pop() to remove guests from your list one at a time until only two names remain in your list. Each time you pop a name from your list, print a message to that person letting them know you’re sorry you can’t invite them to dinner.\n",
        "\n",
        "•Print a message to each of the two people still on your list, letting them know they’re still invited.\n",
        "\n",
        "•Use del to remove the last two names from your list, so you have an e"
      ],
      "metadata": {
        "id": "79U78UPAYZYO"
      }
    },
    {
      "cell_type": "code",
      "source": [
        "#dinner table won't arrive, change your list\n",
        "guest_list = ['Raheel', 'Joe', 'Ibrar', 'Hadi']\n",
        "\n",
        "print('Bad news, I only can invite two people for dinner')\n",
        "\n",
        "print('Sorry my friend ' +\n",
        "      guest_list[3] + ', You are not invited for dinner.')\n",
        "guest_list.pop(3)\n",
        "print(guest_list)\n",
        "\n",
        "print('Sorry my friend ' +\n",
        "      guest_list[1] + ', You are not invited for dinner.')\n",
        "guest_list.pop(1)\n",
        "print(guest_list)\n",
        "\n",
        "print('Dear ' + guest_list[0] + ', you are still invited for dinner.')\n",
        "print('Dear ' + guest_list[1] + ', you are still invited for dinner.')\n",
        "\n",
        "#use del to remove some of your friends name\n",
        "del guest_list[:]\n",
        "print('Guest List: ', guest_list)"
      ],
      "metadata": {
        "id": "TxEXklWMYZ9L",
        "outputId": "89b3584f-14bb-4850-f55a-84657d3efc86",
        "colab": {
          "base_uri": "https://localhost:8080/"
        }
      },
      "execution_count": null,
      "outputs": [
        {
          "output_type": "stream",
          "name": "stdout",
          "text": [
            "Bad news, I only can invite two people for dinner\n",
            "Sorry my friend Hadi, You are not invited for dinner.\n",
            "['Raheel', 'Joe', 'Ibrar']\n",
            "Sorry my friend Joe, You are not invited for dinner.\n",
            "['Raheel', 'Ibrar']\n",
            "Dear Raheel, you are still invited for dinner.\n",
            "Dear Ibrar, you are still invited for dinner.\n",
            "Guest List:  []\n"
          ]
        }
      ]
    },
    {
      "cell_type": "markdown",
      "source": [
        "**Exercise.7:**\n",
        "\n",
        "Think of at least five places in the world you’d like to visit. • Store the locations in a list. Make sure the list is not in alphabetical order.\n",
        "\n",
        "• Print your list in its original order. Don’t worry about printing the list neatly,just print it as a raw Python list.\n",
        "\n",
        "• Use sorted() to print your list in alphabetical order without modifying the actual list.\n",
        "\n",
        "• Show that your list is still in its original order by printing it.\n",
        "\n",
        "• Use sorted() to print your list in reverse alphabetical order without changing the order of the original list.\n",
        "\n",
        "• Show that your list is still in its original order by printing it again.\n",
        "\n",
        "• Use reverse() to change the order of your list. Print the list to show that its order has changed.\n",
        "\n",
        "• Use reverse() to change the order of your list again. Print the list to show it’s back to its original order.\n",
        "\n",
        "• Use sort() to change your list so it’s stored in alphabetical order. Print the list to show that its order has been changed.\n",
        "\n",
        "• Use sort() to change your list so it’s stored in reverse alphabetical order. Print the list to show that its order has changed.\n",
        "\n",
        "   "
      ],
      "metadata": {
        "id": "vdCYsuwyc5UH"
      }
    },
    {
      "cell_type": "code",
      "source": [
        "#print atleast 5 places you would to love to visit\n",
        "places = ['London, Mumbai, California, Madina, New York']\n",
        "print(places)\n",
        "print('\\n')\n",
        "\n",
        "print(sorted(places))\n",
        "print(places)\n",
        "\n",
        "print('\\n')\n",
        "\n",
        "print(sorted(places, reverse=True)) \n",
        "print(places)\n",
        "\n",
        "print('\\n')\n",
        "\n",
        "places = list(reversed(places))\n",
        "print(places)\n",
        "\n",
        "print('\\n')\n",
        "\n",
        "places.sort()\n",
        "print(places)\n",
        "\n",
        "places.sort(reverse=True)\n",
        "print(places)"
      ],
      "metadata": {
        "id": "DOC2viuPc5xF",
        "outputId": "09b97e4c-cb3d-4a15-85ff-c8128510175e",
        "colab": {
          "base_uri": "https://localhost:8080/"
        }
      },
      "execution_count": null,
      "outputs": [
        {
          "output_type": "stream",
          "name": "stdout",
          "text": [
            "['London, Mumbai, California, Madina, New York']\n",
            "\n",
            "\n",
            "['London, Mumbai, California, Madina, New York']\n",
            "['London, Mumbai, California, Madina, New York']\n",
            "\n",
            "\n",
            "['London, Mumbai, California, Madina, New York']\n",
            "['London, Mumbai, California, Madina, New York']\n",
            "\n",
            "\n",
            "['London, Mumbai, California, Madina, New York']\n",
            "\n",
            "\n",
            "['London, Mumbai, California, Madina, New York']\n",
            "['London, Mumbai, California, Madina, New York']\n"
          ]
        }
      ]
    }
  ]
}