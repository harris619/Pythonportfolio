{
  "nbformat": 4,
  "nbformat_minor": 0,
  "metadata": {
    "colab": {
      "provenance": []
    },
    "kernelspec": {
      "name": "python3",
      "display_name": "Python 3"
    },
    "language_info": {
      "name": "python"
    }
  },
  "cells": [
    {
      "cell_type": "markdown",
      "source": [
        "**Exercise.1:**\n",
        "\n",
        "Assign a message to a variable, and print that message. Then change the value of the variable to a new message, and print the new message."
      ],
      "metadata": {
        "id": "YY_gsJWSYthv"
      }
    },
    {
      "cell_type": "code",
      "execution_count": 1,
      "metadata": {
        "colab": {
          "base_uri": "https://localhost:8080/"
        },
        "id": "q35iKvxuWcpo",
        "outputId": "f59177af-65a9-4845-c252-195ef3985aac"
      },
      "outputs": [
        {
          "output_type": "stream",
          "name": "stdout",
          "text": [
            "Hello, I love studying python so much\n",
            "Python is so easy to learn and understand\n"
          ]
        }
      ],
      "source": [
        "message = \"Hello, I love studying python so much\"\n",
        "print(message)\n",
        "\n",
        "message = \"Python is so easy to learn and understand\"\n",
        "print(message)"
      ]
    },
    {
      "cell_type": "markdown",
      "source": [
        "**Exercise.2:**\n",
        "\n",
        "Find a quote from a famous person you admire. Print the quote and the name of its author.\n",
        "\n",
        "Your output should look something like the following, including the quotation marks:\n",
        "\n",
        "Albert Einstein once said, “A person who never made a mistake never tried anything new.\n",
        "\n",
        "     "
      ],
      "metadata": {
        "id": "p62mIS7kZu50"
      }
    },
    {
      "cell_type": "code",
      "source": [
        "quote = '\"There is always something more to learn. Even for a master.\"'\n",
        "\n",
        "print('Master Oogway once delivered the best quote. He said, '+str(quote))"
      ],
      "metadata": {
        "colab": {
          "base_uri": "https://localhost:8080/"
        },
        "id": "UjPIK-saZvPU",
        "outputId": "5af0d498-141b-4083-b6f9-e3f07c723be9"
      },
      "execution_count": 2,
      "outputs": [
        {
          "output_type": "stream",
          "name": "stdout",
          "text": [
            "Master Oogway once delivered the best quote. He said, \"There is always something more to learn. Even for a master.\"\n"
          ]
        }
      ]
    },
    {
      "cell_type": "markdown",
      "source": [
        "**Exercise.3:**\n",
        "\n",
        "Tidy up the code to make it easier to understand\n",
        "\n",
        "Use a variable to represent a person’s name, and include some whitespace characters at the beginning and end of the name. Make sure you use each character combination, “\\t” and “\\n”, at least once.\n",
        "\n",
        "Print the name once, so the whitespace around the name is displayed.\n",
        "\n",
        "Then print the name using each of the three stripping functions, lstrip(), rstrip(), and strip()."
      ],
      "metadata": {
        "id": "DE5ThBMmcLYt"
      }
    },
    {
      "cell_type": "code",
      "source": [
        "word_1 = '               Beautiful'\n",
        "new_word_1 = word_1.strip()\n",
        "print(word_1)\n",
        "print(new_word_1)\n",
        "\n",
        "word_2 = 'Cars              is my everything'\n",
        "new_word_2 = word_2.strip()\n",
        "print(word_2)\n",
        "print(new_word_2)\n",
        "\n",
        "word_3 = '               Cool                   '\n",
        "new_word_3 = word_3.strip()\n",
        "print(word_3)\n",
        "print(new_word_3)\n",
        "\n",
        "print('I made few freinds in university: \\n Raheel \\n Ibrar \\Joe')\n",
        "print('I like driving sports cars at \\t high speed')\n",
        "\n"
      ],
      "metadata": {
        "colab": {
          "base_uri": "https://localhost:8080/"
        },
        "id": "47kcuoqrcLt2",
        "outputId": "6c6a1575-27a6-4a8e-e406-663e16c016a1"
      },
      "execution_count": 3,
      "outputs": [
        {
          "output_type": "stream",
          "name": "stdout",
          "text": [
            "               Beautiful\n",
            "Beautiful\n",
            "Cars              is my everything\n",
            "Cars              is my everything\n",
            "               Cool                   \n",
            "Cool\n",
            "I made few freinds in university: \n",
            " Raheel \n",
            " Ibrar \\Joe\n",
            "I like driving sports cars at \t high speed\n"
          ]
        }
      ]
    },
    {
      "cell_type": "markdown",
      "source": [
        "**Exercise.4:**\n",
        "\n",
        "Use a variable to represent your favorite number. Then,using that variable, create a message that reveals your favorite number. Print that message."
      ],
      "metadata": {
        "id": "bCHsh2yJg605"
      }
    },
    {
      "cell_type": "code",
      "source": [
        "print('Enter your favorite number = ') \n",
        "fav_num = int(input())\n",
        "\n",
        "print('Your favorite number is ' + str(fav_num))"
      ],
      "metadata": {
        "colab": {
          "base_uri": "https://localhost:8080/"
        },
        "id": "aWLIx-xhg7IC",
        "outputId": "dbda73c3-44ac-492d-8f26-36e20b66009d"
      },
      "execution_count": 6,
      "outputs": [
        {
          "output_type": "stream",
          "name": "stdout",
          "text": [
            "Enter your favorite number = \n",
            "55\n",
            "Your favorite number is 55\n"
          ]
        }
      ]
    },
    {
      "cell_type": "markdown",
      "source": [
        "**Exercise.5:**\n",
        "\n",
        "A girl heads to a computer shop to buy some USB sticks. She loves USB sticks and wants as many as she can get for £50. They are £6 each.\n",
        "\n",
        "Write a programme that calculates how many USB sticks she can buy and how many pounds she will have left.\n",
        "\n",
        "You will to use the arithmetic operators to complete this exercise."
      ],
      "metadata": {
        "id": "uqz_GBDOySxB"
      }
    },
    {
      "cell_type": "code",
      "source": [
        "print('Enter the amount available =')\n",
        "amount = float(input())\n",
        "\n",
        "amount_of_usb= 6\n",
        "print('A single usb stick costs' + str(amount_of_usb) + 'dollars.')\n",
        "\n",
        "usbs_bought = amount // amount_of_usb\n",
        "balance = amount % amount_of_usb\n",
        "\n",
        "print('You have ' + str(amount) + ' dollars and you can buy ' +\n",
        "      str(usbs_bought) + ' sticks')\n",
        "print('Balance = ' + str(balance))"
      ],
      "metadata": {
        "colab": {
          "base_uri": "https://localhost:8080/"
        },
        "id": "n3OvMmZpyTLA",
        "outputId": "f20dfff6-963c-4417-8400-527bce2f1279"
      },
      "execution_count": 7,
      "outputs": [
        {
          "output_type": "stream",
          "name": "stdout",
          "text": [
            "Enter the amount available =\n",
            "20\n",
            "A single usb stick costs6dollars.\n",
            "You have 20.0 dollars and you can buy 3.0 sticks\n",
            "Balance = 2.0\n"
          ]
        }
      ]
    }
  ]
}