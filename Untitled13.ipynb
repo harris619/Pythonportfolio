{
  "nbformat": 4,
  "nbformat_minor": 0,
  "metadata": {
    "colab": {
      "provenance": [],
      "authorship_tag": "ABX9TyMMGOK19Edtf7ty+45HdZWY",
      "include_colab_link": true
    },
    "kernelspec": {
      "name": "python3",
      "display_name": "Python 3"
    },
    "language_info": {
      "name": "python"
    }
  },
  "cells": [
    {
      "cell_type": "markdown",
      "metadata": {
        "id": "view-in-github",
        "colab_type": "text"
      },
      "source": [
        "<a href=\"https://colab.research.google.com/github/harris619/Pythonportfolio/blob/main/Untitled13.ipynb\" target=\"_parent\"><img src=\"https://colab.research.google.com/assets/colab-badge.svg\" alt=\"Open In Colab\"/></a>"
      ]
    },
    {
      "cell_type": "code",
      "execution_count": null,
      "metadata": {
        "colab": {
          "base_uri": "https://localhost:8080/"
        },
        "id": "HRE8wgMJbxta",
        "outputId": "3a7d74ef-dcca-4cdb-af3f-45f2e7deb7c2"
      },
      "outputs": [
        {
          "output_type": "stream",
          "name": "stdout",
          "text": [
            "Twinkle twinkle little star\n",
            "How I wonder what you are\n",
            "Up above the world so high\n",
            "Like a diamond in the sky\n",
            "Twinkle twinkle little star\n",
            "How I wonder what you are\n"
          ]
        }
      ],
      "source": [
        "print('Twinkle twinkle little star')\n",
        "print('How I wonder what you are')\n",
        "print('Up above the world so high')\n",
        "print('Like a diamond in the sky')\n",
        "print('Twinkle twinkle little star')\n",
        "print('How I wonder what you are')"
      ]
    }
  ]
}