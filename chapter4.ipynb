{
  "nbformat": 4,
  "nbformat_minor": 0,
  "metadata": {
    "colab": {
      "provenance": [],
      "collapsed_sections": [],
      "authorship_tag": "ABX9TyOrnBfhfEpjR6ZxDZdwyglt",
      "include_colab_link": true
    },
    "kernelspec": {
      "name": "python3",
      "display_name": "Python 3"
    },
    "language_info": {
      "name": "python"
    }
  },
  "cells": [
    {
      "cell_type": "markdown",
      "metadata": {
        "id": "view-in-github",
        "colab_type": "text"
      },
      "source": [
        "<a href=\"https://colab.research.google.com/github/harris619/Pythonportfolio/blob/main/chapter4.ipynb\" target=\"_parent\"><img src=\"https://colab.research.google.com/assets/colab-badge.svg\" alt=\"Open In Colab\"/></a>"
      ]
    },
    {
      "cell_type": "markdown",
      "source": [
        "**Exercise.1:**\n",
        "\n",
        "Imagine an alien was just shot down in a game. Create a variable called alien_color and assign it a value of 'green', 'yellow', or 'red'.\n",
        "\n",
        "•Write an if statement to test whether the alien’s color is green. If it is, print a message that the player just earned 5 points.\n",
        "\n",
        "•Write one version of this program that passes the if test and another that fails. (The version that fails will have no output.)\n",
        "\n",
        "   "
      ],
      "metadata": {
        "id": "FHTWCQ5HWEcz"
      }
    },
    {
      "cell_type": "code",
      "execution_count": null,
      "metadata": {
        "colab": {
          "base_uri": "https://localhost:8080/"
        },
        "id": "gl6vOvjtVc7p",
        "outputId": "e119ca3a-1ce8-470e-a8c3-05c3ff077424"
      },
      "outputs": [
        {
          "output_type": "stream",
          "name": "stdout",
          "text": [
            "You have earned 5 points.\n"
          ]
        }
      ],
      "source": [
        "#print the color of alien according to print alloted\n",
        "alien_color = 'green'\n",
        "if alien_color == 'green' :\n",
        "   print('You have earned 5 points.')"
      ]
    },
    {
      "cell_type": "markdown",
      "source": [
        "**Exercise.2:**\n",
        "\n",
        "Imagine an alien was just shot down in a game. Create a variable called alien_color and assign it a value of 'green', 'yellow', or 'red'.\n",
        "\n",
        "•Write an if statement to test whether the alien’s color is green. If it is, print a message that the player just earned 5 points.\n",
        "\n",
        "•Write one version of this program that passes the if test and another that fails. (The version that fails will have no output.)"
      ],
      "metadata": {
        "id": "9HcOpmG3WE9P"
      }
    },
    {
      "cell_type": "code",
      "source": [
        "#write 1 if program that passes the test and another that fails it\n",
        "alien_color = 'green'\n",
        "\n",
        "if alien_color == 'green':\n",
        "    print('You have earned 5 points.')\n",
        "else:\n",
        "    print('You have earned 10 points')  \n",
        "\n",
        "alien_color = 'yellow'\n",
        "if alien_color == 'green':\n",
        "    print('You have earned 5 points.')\n",
        "\n",
        "else:\n",
        "    print('You have earned 10 points.')  "
      ],
      "metadata": {
        "colab": {
          "base_uri": "https://localhost:8080/"
        },
        "id": "26-_2JJHWFd-",
        "outputId": "b5213f96-c94c-44ed-ec0e-715e576e675a"
      },
      "execution_count": null,
      "outputs": [
        {
          "output_type": "stream",
          "name": "stdout",
          "text": [
            "You have earned 5 points.\n",
            "You have earned 10 points.\n"
          ]
        }
      ]
    },
    {
      "cell_type": "markdown",
      "source": [
        "**Exercise.3:**\n",
        "\n",
        "Turn your if-else chain from Exercise 5-4 into an if-elifelse chain.\n",
        "\n",
        "• If the alien is green, print a message that the player earned 5 points.\n",
        "\n",
        "• If the alien is yellow, print a message that the player earned 10 points.\n",
        "\n",
        "• If the alien is red, print a message that the player earned 15 points.\n",
        "\n",
        "• Write three versions of this program, making sure each message is printed for the appropriate color alien."
      ],
      "metadata": {
        "id": "wLISRwNzWF55"
      }
    },
    {
      "cell_type": "code",
      "source": [
        "#print 3 chain of if, else, and elif\n",
        "alien_color = \"red\"   \n",
        "\n",
        "if alien_color == \"green\":\n",
        "  print(\"You have earned 5 points.\")\n",
        "elif alien_color == \"blue\":\n",
        "  print(\"You have earned 10 points.\")\n",
        "else:\n",
        "  print(\"You have earned 15 points.\")\n"
      ],
      "metadata": {
        "colab": {
          "base_uri": "https://localhost:8080/"
        },
        "id": "0BKA5s_HWGPB",
        "outputId": "1252cba4-ac47-4187-bffc-ed9d2050e8ae"
      },
      "execution_count": 2,
      "outputs": [
        {
          "output_type": "stream",
          "name": "stdout",
          "text": [
            "You have earned 15 points.\n"
          ]
        }
      ]
    },
    {
      "cell_type": "markdown",
      "source": [
        "**Exercise.4:**\n",
        "\n",
        "Write an if-elif-else chain that determines a person’s stage of life. Set a value for the variable age, and then:\n",
        "\n",
        "•If the person is less than 2 years old, print a message that the person is a baby.\n",
        "\n",
        "•If the person is at least 2 years old but less than 4, print a message that the person is a toddler.\n",
        "\n",
        "•If the person is at least 4 years old but less than 13, print a message that the person is a kid.\n",
        "\n",
        "•If the person is at least 13 years old but less than 20, print a message that the person is a teenager.\n",
        "\n",
        "•If the person is at least 20 years old but less than 65, print a message that the person is an adult.\n",
        "\n",
        "•If the person is age 65 or older, print a message that the person is an elder."
      ],
      "metadata": {
        "id": "mTcJlmSXWGoZ"
      }
    },
    {
      "cell_type": "code",
      "source": [
        "#print a chain of if, else, and elif that determines person stage of life\n",
        "print('Enter your age = ')\n",
        "age = int(input())\n",
        "\n",
        "if age < 2:\n",
        "   print('You are an infant')\n",
        "\n",
        "elif age == 2 or age < 4:\n",
        "   print('You are a toddler')\n",
        "\n",
        "elif age == 4 or age < 13:\n",
        "   print('You are a kid')\n",
        "\n",
        "elif age == 13 or age < 20:\n",
        "   print('You are a teenager')\n",
        "\n",
        "elif age == 20 or age < 65:\n",
        "   print('You are an adult')\n",
        "\n",
        "else:\n",
        "   print('You are an elder')           "
      ],
      "metadata": {
        "colab": {
          "base_uri": "https://localhost:8080/"
        },
        "id": "cDjn5V4_WHy0",
        "outputId": "82fd1981-5250-4de3-c119-c098e2cc0706"
      },
      "execution_count": null,
      "outputs": [
        {
          "output_type": "stream",
          "name": "stdout",
          "text": [
            "Enter your age = \n",
            "19\n",
            "You are a teenager\n"
          ]
        }
      ]
    },
    {
      "cell_type": "markdown",
      "source": [
        "**Exercise.5:**\n",
        "\n",
        "Make a list of your favorite fruits, and then write a series of independent if statements that check for certain fruits in your list.\n",
        "\n",
        "•Make a list of your three favorite fruits and call it favorite_fruits.\n",
        "\n",
        "•Write five if statements. Each should check whether a certain kind of fruit is in your list. If the fruit is in your list, the if block should print a statement,such as You really like bananas!"
      ],
      "metadata": {
        "id": "UDSZfKrxWOhc"
      }
    },
    {
      "cell_type": "code",
      "source": [
        "#make list of your favorite fruits and write series of independent statements\n",
        "favorite_fruits = ['mango', 'grapes', 'apple', 'orange']\n",
        "\n",
        "if 'mango' in favorite_fruits:\n",
        "    print('Wow, you really like mango.')\n",
        "\n",
        "if 'grapes' in favorite_fruits:\n",
        "    print('Wow, you really like grapes.') \n",
        "\n",
        "if 'apple' in favorite_fruits:\n",
        "    print('Wow, you really like apple.')       \n",
        "\n",
        "if 'orange' in favorite_fruits:\n",
        "    print('Wow, you really like orange.')\n",
        "\n"
      ],
      "metadata": {
        "id": "DC7llAsWWOvr",
        "outputId": "77371af3-eff6-4046-bef7-72e3f52dd75b",
        "colab": {
          "base_uri": "https://localhost:8080/"
        }
      },
      "execution_count": 1,
      "outputs": [
        {
          "output_type": "stream",
          "name": "stdout",
          "text": [
            "Wow, you really like mango.\n",
            "Wow, you really like grapes.\n",
            "Wow, you really like apple.\n",
            "Wow, you really like orange.\n"
          ]
        }
      ]
    }
  ]
}