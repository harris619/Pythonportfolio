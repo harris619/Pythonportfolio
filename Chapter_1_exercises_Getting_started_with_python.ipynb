{
  "nbformat": 4,
  "nbformat_minor": 0,
  "metadata": {
    "colab": {
      "provenance": [],
      "collapsed_sections": [],
      "toc_visible": true
    },
    "kernelspec": {
      "name": "python3",
      "display_name": "Python 3"
    },
    "language_info": {
      "name": "python"
    }
  },
  "cells": [
    {
      "cell_type": "markdown",
      "source": [
        "**Exercise.1:**\n",
        "\n",
        "Write a Python program to print the following string in a specific format.\n",
        "\n",
        "Twinkle, twinkle, little star, How I wonder what you are! Up above the world so high, Like a diamond in the sky. Twinkle, twinkle, little star, How I wonder what you are"
      ],
      "metadata": {
        "id": "MuTRADPgTLYm"
      }
    },
    {
      "cell_type": "code",
      "execution_count": null,
      "metadata": {
        "colab": {
          "base_uri": "https://localhost:8080/"
        },
        "id": "HRE8wgMJbxta",
        "outputId": "3a7d74ef-dcca-4cdb-af3f-45f2e7deb7c2"
      },
      "outputs": [
        {
          "output_type": "stream",
          "name": "stdout",
          "text": [
            "Twinkle twinkle little star\n",
            "How I wonder what you are\n",
            "Up above the world so high\n",
            "Like a diamond in the sky\n",
            "Twinkle twinkle little star\n",
            "How I wonder what you are\n"
          ]
        }
      ],
      "source": [
        "print('Twinkle twinkle little star')\n",
        "print('How I wonder what you are')\n",
        "print('Up above the world so high')\n",
        "print('Like a diamond in the sky')\n",
        "print('Twinkle twinkle little star')\n",
        "print('How I wonder what you are')"
      ]
    },
    {
      "cell_type": "markdown",
      "source": [
        "**Exercise.2:**\n",
        "\n",
        "Write a Python program to get the Python version you are using."
      ],
      "metadata": {
        "id": "a8_TghDkPNcC"
      }
    },
    {
      "cell_type": "code",
      "execution_count": null,
      "metadata": {
        "colab": {
          "base_uri": "https://localhost:8080/"
        },
        "id": "FxO0RrK0rsEv",
        "outputId": "716467ed-2d99-4005-f68d-4c0a053cec0d"
      },
      "outputs": [
        {
          "output_type": "stream",
          "name": "stdout",
          "text": [
            "Python Version\n",
            "sys.version\n",
            "Pyton Version Information\n",
            "sys.version_info\n"
          ]
        }
      ],
      "source": [
        "import sys \n",
        "\n",
        "print('Python Version')\n",
        "print('sys.version')\n",
        "\n",
        "print('Pyton Version Information')\n",
        "print('sys.version_info')"
      ]
    },
    {
      "cell_type": "markdown",
      "source": [],
      "metadata": {
        "id": "n8PsqLGEQPKz"
      }
    },
    {
      "cell_type": "markdown",
      "source": [
        "**Execise.3:**\n",
        "\n",
        "Write a Python program to display the current date and time"
      ],
      "metadata": {
        "id": "3_0PGh9zPZor"
      }
    },
    {
      "cell_type": "code",
      "execution_count": null,
      "metadata": {
        "colab": {
          "base_uri": "https://localhost:8080/"
        },
        "id": "j_vUTWlI9Dl9",
        "outputId": "efad1a5d-76b0-4d2c-c128-e54e5c1e4dcf"
      },
      "outputs": [
        {
          "output_type": "stream",
          "name": "stdout",
          "text": [
            "Today's date is 2022-10-30\n",
            "\n",
            "\n",
            "The current time is 13 : 06 : 21\n",
            "\n",
            "\n",
            "The date is 2022-10-30 13:06:21.038030\n"
          ]
        }
      ],
      "source": [
        "import time  # importing time module\n",
        "from datetime import date   # from datetime, importing date module\n",
        "from datetime import datetime \n",
        "\n",
        "date = date.today()\n",
        "print(\"Today's date is\", date)\n",
        "\n",
        "print(\"\\n\")\n",
        "\n",
        "t = time.localtime()\n",
        "current_time = time.strftime(\"%H : %M : %S\", t)\n",
        "print('The current time is', current_time)\n",
        "\n",
        "print(\"\\n\")\n",
        "# printing both time and date together\n",
        "\n",
        "date_time = datetime.now()\n",
        "print(\"The date is\", date_time)\n"
      ]
    },
    {
      "cell_type": "markdown",
      "source": [
        "**Exercise.4:**\n",
        "\n",
        "Write three strings in different variables and print the output as one string.      "
      ],
      "metadata": {
        "id": "0zhaDNWuSUuC"
      }
    },
    {
      "cell_type": "code",
      "execution_count": null,
      "metadata": {
        "colab": {
          "base_uri": "https://localhost:8080/"
        },
        "id": "UspJWPOaAycK",
        "outputId": "c556f9bb-faa0-4aee-c1e2-0e5e06675da4"
      },
      "outputs": [
        {
          "output_type": "stream",
          "name": "stdout",
          "text": [
            "My name is Haris\n",
            "I love programming\n",
            "I study in metavorse\n"
          ]
        }
      ],
      "source": [
        "string_1 = 'My name is Haris'\n",
        "string_2 = 'I love programming'\n",
        "string_3 = 'I study in metavorse'\n",
        "\n",
        "print(string_1 + '\\n' + string_2 + '\\n' + string_3)"
      ]
    },
    {
      "cell_type": "markdown",
      "source": [
        "**Exercise.5:**\n",
        "\n",
        "Write a Python program which accepts the radius of a circle from the user and compute the area"
      ],
      "metadata": {
        "id": "ZBtZXP6ZSvJC"
      }
    },
    {
      "cell_type": "code",
      "execution_count": null,
      "metadata": {
        "colab": {
          "base_uri": "https://localhost:8080/"
        },
        "id": "00IyF60ICX01",
        "outputId": "9bf87dcb-38f7-46b2-9a30-4c70bc40b700"
      },
      "outputs": [
        {
          "output_type": "stream",
          "name": "stdout",
          "text": [
            "Enter the radious of the circle =\n",
            "45\n",
            "The area of the circle with radius45.0units is6358.500000000001sq.units\n"
          ]
        }
      ],
      "source": [
        "print('Enter the radious of the circle =')\n",
        "radius = float(input())\n",
        "\n",
        "pi = 3.14\n",
        "area = pi * radius * radius\n",
        "\n",
        "print('The area of the circle with radius' +\n",
        "      str(radius) + 'units is' + str(area) + 'sq.units')"
      ]
    }
  ]
}