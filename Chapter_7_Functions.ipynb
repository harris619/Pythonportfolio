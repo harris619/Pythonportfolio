{
  "nbformat": 4,
  "nbformat_minor": 0,
  "metadata": {
    "colab": {
      "provenance": [],
      "authorship_tag": "ABX9TyPqKHEsBE0Fi+B2wowRNiHQ",
      "include_colab_link": true
    },
    "kernelspec": {
      "name": "python3",
      "display_name": "Python 3"
    },
    "language_info": {
      "name": "python"
    }
  },
  "cells": [
    {
      "cell_type": "markdown",
      "metadata": {
        "id": "view-in-github",
        "colab_type": "text"
      },
      "source": [
        "<a href=\"https://colab.research.google.com/github/harris619/Pythonportfolio/blob/main/Chapter_7_Functions.ipynb\" target=\"_parent\"><img src=\"https://colab.research.google.com/assets/colab-badge.svg\" alt=\"Open In Colab\"/></a>"
      ]
    },
    {
      "cell_type": "markdown",
      "source": [
        "**Exercise.1:**\n",
        "\n",
        "Write a function called display_message() that prints one sentence telling everyone what you are learning about in this chapter. Call the function, and make sure the message displays correctly."
      ],
      "metadata": {
        "id": "baAbPvwPx0kI"
      }
    },
    {
      "cell_type": "code",
      "execution_count": null,
      "metadata": {
        "colab": {
          "base_uri": "https://localhost:8080/"
        },
        "id": "0hnQVBaii33H",
        "outputId": "d0677293-a5db-472d-e344-a0164db180a6"
      },
      "outputs": [
        {
          "output_type": "stream",
          "name": "stdout",
          "text": [
            "Hello World\n"
          ]
        }
      ],
      "source": [
        "#greeting users\n",
        "\n",
        "def greet_user():\n",
        "  print(\"Hello World\")\n",
        "greet_user()  "
      ]
    },
    {
      "cell_type": "markdown",
      "source": [
        "**Exercise.2:**\n",
        "\n",
        "Write a function called favorite_book() that accepts one parameter, title. The function should print a message, such as One of my favorite books is Alice in Wonderland. Call the function, making sure to include a book title as an argument in the function call."
      ],
      "metadata": {
        "id": "NWgn4zSyzcFP"
      }
    },
    {
      "cell_type": "code",
      "source": [
        "#print your favorite book that accepts one parameter\n",
        "\n",
        "def favorite_book(book):\n",
        "    print(f'The book which my favorite is {book.title()}.')\n",
        "\n",
        "favorite_book('Your Vison')    "
      ],
      "metadata": {
        "id": "KKqP6D9Czcid",
        "colab": {
          "base_uri": "https://localhost:8080/"
        },
        "outputId": "cea9a717-3677-4bcf-cddb-dba3c3241d73"
      },
      "execution_count": 2,
      "outputs": [
        {
          "output_type": "stream",
          "name": "stdout",
          "text": [
            "The book which my favorite is Your Vison.\n"
          ]
        }
      ]
    },
    {
      "cell_type": "markdown",
      "source": [
        "**Exercise.3:**\n",
        "\n",
        "Write a function called make_shirt() that accepts a size and the text of a message that should be printed on the shirt. The function should print a sentence summarizing the size of the shirt and the message printed on it. Call the function once using positional arguments to make a shirt. Call the function a second time using keyword arguments."
      ],
      "metadata": {
        "id": "h140kYakJV3R"
      }
    },
    {
      "cell_type": "code",
      "source": [
        "#make shirt that accepts the size and text of msg that should be printed on the shirt\n",
        "\n",
        "def make_shirt(size,message):\n",
        "\n",
        " print(f\"\\nThe size of the shirt is {size} and message to be printed is {message.upper()}\")\n",
        "make_shirt(40, 'simple is beautiful')    # Function call with two arguments"
      ],
      "metadata": {
        "colab": {
          "base_uri": "https://localhost:8080/"
        },
        "id": "N_IyTM-bJYEq",
        "outputId": "ceb5e7b6-78d3-4a20-ebe7-0195142594c7"
      },
      "execution_count": 1,
      "outputs": [
        {
          "output_type": "stream",
          "name": "stdout",
          "text": [
            "\n",
            "The size of the shirt is 40 and message to be printed is SIMPLE IS BEAUTIFUL\n"
          ]
        }
      ]
    },
    {
      "cell_type": "markdown",
      "source": [
        "**Exercise.4:**\n",
        "\n",
        "Modify the make_shirt() function so that shirts are large by default with a message that reads I love Python. Make a large shirt and a medium shirt with the default message, and a shirt of any size with a different message."
      ],
      "metadata": {
        "id": "9GiuQ7NtJYfx"
      }
    },
    {
      "cell_type": "code",
      "source": [
        "#make shirt that should be large by default with a msg that reads I love python\n",
        "\n",
        "def make_shirt(size='Large',message='Phyton is my favorite subject'):\n",
        " print(f\"\\n The size of the shirt is {size} and message to be printed is {message.upper()}\")\n",
        "make_shirt() \n",
        "make_shirt(size='Medium & Large')  \n",
        "make_shirt(size='XL',message='we are coders'.upper()) "
      ],
      "metadata": {
        "colab": {
          "base_uri": "https://localhost:8080/"
        },
        "id": "D1sQorBXJY2L",
        "outputId": "ce037589-d4e0-420b-f394-853eadc36538"
      },
      "execution_count": 2,
      "outputs": [
        {
          "output_type": "stream",
          "name": "stdout",
          "text": [
            "\n",
            " The size of the shirt is Large and message to be printed is PHYTON IS MY FAVORITE SUBJECT\n",
            "\n",
            " The size of the shirt is Medium & Large and message to be printed is PHYTON IS MY FAVORITE SUBJECT\n",
            "\n",
            " The size of the shirt is XL and message to be printed is WE ARE CODERS\n"
          ]
        }
      ]
    },
    {
      "cell_type": "markdown",
      "source": [
        "**Exercise.5:**\n",
        "\n",
        "Write a function called describe_city() that accepts the name of a city and its country. The function should print a simple sentence, such as Reykjavik is in Iceland. Give the parameter for the country a default value. Call your function for three different cities, at least one of which is not in the default country."
      ],
      "metadata": {
        "id": "_uh366TgPL4t"
      }
    },
    {
      "cell_type": "code",
      "source": [
        "def describe_city(city, country='Japan'):\n",
        "    print(f'{city.title()} is in {country}')\n",
        "\n",
        "describe_city('Tokyo')\n",
        "describe_city('Hiroshima')\n",
        "describe_city('Kyoto')    "
      ],
      "metadata": {
        "id": "3UUcUxiaPQsN",
        "colab": {
          "base_uri": "https://localhost:8080/"
        },
        "outputId": "9ea0a971-4405-4fc2-f7a4-0618ab65e843"
      },
      "execution_count": 4,
      "outputs": [
        {
          "output_type": "stream",
          "name": "stdout",
          "text": [
            "Tokyo is in Japan\n",
            "Hiroshima is in Japan\n",
            "Kyoto is in Japan\n"
          ]
        }
      ]
    }
  ]
}